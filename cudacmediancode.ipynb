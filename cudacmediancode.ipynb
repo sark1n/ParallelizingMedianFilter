{
  "nbformat": 4,
  "nbformat_minor": 0,
  "metadata": {
    "colab": {
      "provenance": [],
      "gpuType": "T4"
    },
    "kernelspec": {
      "name": "python3",
      "display_name": "Python 3"
    },
    "language_info": {
      "name": "python"
    },
    "accelerator": "GPU"
  },
  "cells": [
    {
      "cell_type": "code",
      "execution_count": null,
      "metadata": {
        "colab": {
          "base_uri": "https://localhost:8080/"
        },
        "id": "bOi1v2ltRDOh",
        "outputId": "56cec06a-7a61-472e-f52a-362d3b8b4287"
      },
      "outputs": [
        {
          "output_type": "stream",
          "name": "stdout",
          "text": [
            "nvcc: NVIDIA (R) Cuda compiler driver\n",
            "Copyright (c) 2005-2022 NVIDIA Corporation\n",
            "Built on Wed_Sep_21_10:33:58_PDT_2022\n",
            "Cuda compilation tools, release 11.8, V11.8.89\n",
            "Build cuda_11.8.r11.8/compiler.31833905_0\n"
          ]
        }
      ],
      "source": [
        "!nvcc --version"
      ]
    },
    {
      "cell_type": "code",
      "source": [
        "!pip install git+https://github.com/andreinechaev/nvcc4jupyter.git"
      ],
      "metadata": {
        "colab": {
          "base_uri": "https://localhost:8080/"
        },
        "id": "8OmsTS60RT9U",
        "outputId": "2345b946-29e2-4695-873b-d7bf2fedf085"
      },
      "execution_count": null,
      "outputs": [
        {
          "output_type": "stream",
          "name": "stdout",
          "text": [
            "Collecting git+https://github.com/andreinechaev/nvcc4jupyter.git\n",
            "  Cloning https://github.com/andreinechaev/nvcc4jupyter.git to /tmp/pip-req-build-z2t1gg71\n",
            "  Running command git clone --filter=blob:none --quiet https://github.com/andreinechaev/nvcc4jupyter.git /tmp/pip-req-build-z2t1gg71\n",
            "  Resolved https://github.com/andreinechaev/nvcc4jupyter.git to commit 0a71d56e5dce3ff1f0dd2c47c29367629262f527\n",
            "  Preparing metadata (setup.py) ... \u001b[?25l\u001b[?25hdone\n",
            "Building wheels for collected packages: NVCCPlugin\n",
            "  Building wheel for NVCCPlugin (setup.py) ... \u001b[?25l\u001b[?25hdone\n",
            "  Created wheel for NVCCPlugin: filename=NVCCPlugin-0.0.2-py3-none-any.whl size=4293 sha256=ad814e5a8d516e2850e37a083cc2fbe7079b9167c9d6ded17e89a64313aaf930\n",
            "  Stored in directory: /tmp/pip-ephem-wheel-cache-fzkyyfae/wheels/a8/b9/18/23f8ef71ceb0f63297dd1903aedd067e6243a68ea756d6feea\n",
            "Successfully built NVCCPlugin\n",
            "Installing collected packages: NVCCPlugin\n",
            "Successfully installed NVCCPlugin-0.0.2\n"
          ]
        }
      ]
    },
    {
      "cell_type": "code",
      "source": [
        "%load_ext nvcc_plugin"
      ],
      "metadata": {
        "colab": {
          "base_uri": "https://localhost:8080/"
        },
        "id": "3rbpfegnRYQu",
        "outputId": "2cc0b0ac-6978-4f63-9169-9ad85978cd42"
      },
      "execution_count": null,
      "outputs": [
        {
          "output_type": "stream",
          "name": "stdout",
          "text": [
            "created output directory at /content/src\n",
            "Out bin /content/result.out\n"
          ]
        }
      ]
    },
    {
      "cell_type": "code",
      "source": [
        "%%cu\n",
        "#include <iostream>\n",
        "    int\n",
        "    main()\n",
        "{\n",
        "    std::cout << \"Welcome To GeeksforGeeks\\n\";\n",
        "    return 0;\n",
        "}"
      ],
      "metadata": {
        "colab": {
          "base_uri": "https://localhost:8080/"
        },
        "id": "hOHeHbpcRcVi",
        "outputId": "c87e7f44-415d-49d8-fae7-c0cea2612627"
      },
      "execution_count": null,
      "outputs": [
        {
          "output_type": "stream",
          "name": "stdout",
          "text": [
            "Welcome To GeeksforGeeks\n",
            "\n"
          ]
        }
      ]
    },
    {
      "cell_type": "code",
      "source": [
        "%%cu\n",
        "#include <stdio.h>\n",
        "#include <stdlib.h>\n",
        "#include <math.h>\n",
        "\n",
        "#include \"cuda_runtime.h\"\n",
        "#include \"device_launch_parameters.h\"\n",
        "#include <cuda.h>\n",
        "#include <device_functions.h>\n",
        "#include <cuda_runtime_api.h>\n",
        "#include \"/content/pgmio.h\"\n",
        "\n",
        "// image dimensions WIDTH & HEIGHT\n",
        "#define WIDTH 225\n",
        "#define HEIGHT 225\n",
        "\n",
        "// Block width WIDTH & HEIGHT\n",
        "#define BLOCK_W 16\n",
        "#define BLOCK_H 16\n",
        "\n",
        "// buffer to read image into\n",
        "float image[HEIGHT][WIDTH];\n",
        "\n",
        "// buffer for resulting image\n",
        "float final[HEIGHT][WIDTH];\n",
        "\n",
        "// prototype declarations\n",
        "void load_image();\n",
        "void call_kernel();\n",
        "void save_image();\n",
        "\n",
        "#define MAXLINE 128\n",
        "\n",
        "float total, sobel;\n",
        "cudaEvent_t start_total, stop_total;\n",
        "cudaEvent_t start_sobel, stop_sobel;\n",
        "\n",
        "__global__ void imageBlur(float *input, float *output, int width, int height) {\n",
        "    int col = threadIdx.x + blockIdx.x * blockDim.x;\n",
        "    int row = threadIdx.y + blockIdx.y * blockDim.y;\n",
        "\n",
        "    int numcols = WIDTH;\n",
        "\n",
        "    float blur;\n",
        "\n",
        "    if (row < height && col < width && row > 0 && col > 0) {\n",
        "        int x1, x3, x4, x5, x7;\n",
        "\n",
        "        x1 = input[(row + 1) * numcols + col];\n",
        "        x3 = input[row * numcols + (col - 1)];\n",
        "        x4 = input[row * numcols + col];\n",
        "        x5 = input[row * numcols + (col + 1)];\n",
        "        x7 = input[(row - 1) * numcols + col];\n",
        "\n",
        "        blur = (x1 * 0.2) + (x3 * 0.2) + (x4 * 0.2) + (x5 * 0.2) + (x7 * 0.2);\n",
        "\n",
        "        output[row * numcols + col] = blur;\n",
        "    }\n",
        "}\n",
        "\n",
        "__global__ void gaussianFilter(float *input, float *output, int width, int height) {\n",
        "    int col = threadIdx.x + blockIdx.x * blockDim.x;\n",
        "    int row = threadIdx.y + blockIdx.y * blockDim.y;\n",
        "\n",
        "    int numcols = WIDTH;\n",
        "\n",
        "    float blur;\n",
        "\n",
        "    if (row < height && col < width && row > 0 && col > 0) {\n",
        "        int x0, x1, x2, x3, x4, x5, x6, x7, x8;\n",
        "\n",
        "        x0 = input[(row - 1) * numcols + (col - 1)];\n",
        "        x1 = input[(row - 1) * numcols + col];\n",
        "        x2 = input[(row - 1) * numcols + (col + 1)];\n",
        "        x3 = input[row * numcols + (col - 1)];\n",
        "        x4 = input[row * numcols + col];\n",
        "        x5 = input[row * numcols + (col + 1)];\n",
        "        x6 = input[(row + 1) * numcols + (col - 1)];\n",
        "        x7 = input[(row + 1) * numcols + col];\n",
        "        x8 = input[(row + 1) * numcols + (col + 1)];\n",
        "\n",
        "        blur = (x0 + 2 * x1 + x2 + 2 * x3 + 4 * x4 + 2 * x5 + x6 + 2 * x7 + x8) / 16.0;\n",
        "\n",
        "\n",
        "\n",
        "        output[row * numcols + col] = blur;\n",
        "    }\n",
        "}\n",
        "\n",
        "void load_image() {\n",
        "    pgmread(\"/content/image225x225.pgm\", (void *)image, WIDTH, HEIGHT);\n",
        "}\n",
        "\n",
        "void save_image() {\n",
        "    pgmwrite(\"/content/image-outputl225x225.pgm\", (void *)final, WIDTH, HEIGHT);\n",
        "}\n",
        "\n",
        "void call_kernel() {\n",
        "    int x, y;\n",
        "    float *d_input, *d_output;\n",
        "\n",
        "    printf(\"Block size: %dx%d\\n\", BLOCK_W, BLOCK_H);\n",
        "\n",
        "    size_t memSize = WIDTH * HEIGHT * sizeof(float);\n",
        "\n",
        "    cudaMalloc(&d_input, memSize);\n",
        "    cudaMalloc(&d_output, memSize);\n",
        "\n",
        "    for (y = 0; y < HEIGHT; y++) {\n",
        "        for (x = 0; x < WIDTH; x++) {\n",
        "            final[x][y] = 0.0;\n",
        "        }\n",
        "    }\n",
        "\n",
        "    printf(\"Blocks per grid (width): %d |\", (WIDTH / BLOCK_W));\n",
        "    printf(\"Blocks per grid (height): %d |\", (HEIGHT / BLOCK_H));\n",
        "\n",
        "    cudaMemcpy(d_input, image, memSize, cudaMemcpyHostToDevice);\n",
        "\n",
        "    dim3 threads(BLOCK_W, BLOCK_H);\n",
        "    dim3 blocks(WIDTH / BLOCK_W, HEIGHT / BLOCK_H);\n",
        "\n",
        "    imageBlur<<<blocks, threads>>>(d_input, d_output, WIDTH, HEIGHT);\n",
        "    cudaDeviceSynchronize();\n",
        "\n",
        "    cudaMemcpy(d_input, d_output, memSize, cudaMemcpyDeviceToHost);\n",
        "\n",
        "    gaussianFilter<<<blocks, threads>>>(d_input, d_output, WIDTH, HEIGHT);\n",
        "    cudaDeviceSynchronize();\n",
        "\n",
        "    cudaMemcpy(final, d_output, memSize, cudaMemcpyDeviceToHost);\n",
        "\n",
        "    cudaError_t err = cudaGetLastError();\n",
        "    if (cudaSuccess != err) {\n",
        "        fprintf(stderr, \"Cuda error: %s: %s.\\n\", \"Main Loop\", cudaGetErrorString(err));\n",
        "        exit(EXIT_FAILURE);\n",
        "    }\n",
        "\n",
        "    cudaFree(d_input);\n",
        "    cudaFree(d_output);\n",
        "}\n",
        "\n",
        "int main(int argc, char *argv[]) {\n",
        "    cudaEventCreate(&start_total);\n",
        "    cudaEventCreate(&stop_total);\n",
        "\n",
        "    cudaEventCreate(&start_sobel);\n",
        "    cudaEventCreate(&stop_sobel);\n",
        "\n",
        "    cudaEventRecord(start_total, 0);\n",
        "\n",
        "    load_image();\n",
        "\n",
        "    cudaEventRecord(start_sobel, 0);\n",
        "\n",
        "    call_kernel();\n",
        "\n",
        "    cudaEventRecord(stop_sobel, 0);\n",
        "    cudaEventSynchronize(stop_sobel);\n",
        "    cudaEventElapsedTime(&sobel, start_sobel, stop_sobel);\n",
        "\n",
        "    save_image();\n",
        "\n",
        "    cudaEventRecord(stop_total, 0);\n",
        "    cudaEventSynchronize(stop_total);\n",
        "    cudaEventElapsedTime(&total, start_total, stop_total);\n",
        "\n",
        "    printf(\"Total Parallel Time: %f s |\", sobel / 1000);\n",
        "    printf(\"Total Serial Time: %f s |\", (total - sobel) / 1000);\n",
        "    printf(\"Total Time: %f s |\", total / 1000);\n",
        "\n",
        "    cudaDeviceReset();\n",
        "\n",
        "    return 0;\n",
        "}\n"
      ],
      "metadata": {
        "colab": {
          "base_uri": "https://localhost:8080/"
        },
        "id": "aV7t-XcCRoen",
        "outputId": "1d8b928c-077d-4c96-ac49-e6de9476b170"
      },
      "execution_count": null,
      "outputs": [
        {
          "output_type": "stream",
          "name": "stdout",
          "text": [
            "Block size: 16x16\n",
            "Blocks per grid (width): 14 |Blocks per grid (height): 14 |Writing 225 x 225 picture into file: /content/image-outputl225x225.pgm\n",
            "Total Parallel Time: 0.001644 s |Total Serial Time: 0.009759 s |Total Time: 0.011403 s |\n"
          ]
        }
      ]
    }
  ]
}